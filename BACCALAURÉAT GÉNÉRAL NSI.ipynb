{
 "cells": [
  {
   "cell_type": "markdown",
   "id": "17227ccd",
   "metadata": {},
   "source": [
    "# **BACCALAURÉAT GÉNÉRAL**"
   ]
  },
  {
   "cell_type": "markdown",
   "id": "c0689237",
   "metadata": {},
   "source": [
    "<u>*NUMÉRIQUE ET SCIENCES INFORMATIQUES*</u>"
   ]
  },
  {
   "cell_type": "markdown",
   "id": "9d181ef1",
   "metadata": {},
   "source": [
    "### **Exercice 1**"
   ]
  },
  {
   "cell_type": "code",
   "execution_count": 81,
   "id": "5b3486fb",
   "metadata": {},
   "outputs": [
    {
     "data": {
      "text/plain": [
       "'a'"
      ]
     },
     "execution_count": 81,
     "metadata": {},
     "output_type": "execute_result"
    }
   ],
   "source": [
    "from random import choice\n",
    "def A():\n",
    "    if choice([True,False]):\n",
    "        return \"a\"\n",
    "    else:\n",
    "        return \"a\"+ A() +\"a\"\n",
    "    \n",
    "A()"
   ]
  },
  {
   "cell_type": "markdown",
   "id": "293e02fa",
   "metadata": {},
   "source": [
    "<span style=\"color:Blue\">1. a. Cette fonction est-elle récursive ? Justifier.</span>"
   ]
  },
  {
   "cell_type": "markdown",
   "id": "1a49c288",
   "metadata": {},
   "source": [
    "Oui elle est récusive car elle s'appelle elle-même dans la fonction à partir du `else`"
   ]
  },
  {
   "cell_type": "markdown",
   "id": "3307554d",
   "metadata": {},
   "source": [
    "<span style=\"color:Blue\">1. b. La fonction choice `([True, False])` peut renvoyer <span style=\"color:Red\">False</span> un très grand\n",
    "nombre de fois consécutives. Expliquer pourquoi ce cas de figure amènerait à\n",
    "une erreur d'exécution.</span>"
   ]
  },
  {
   "cell_type": "markdown",
   "id": "769015b9",
   "metadata": {},
   "source": [
    " Si la fonction ``choice ``retourne ``False`` un nombre de fois supérieur à la limite de pronfondeur de récusivité (1000 par défault) dans ce cas une erreur d'éxécution se produit."
   ]
  },
  {
   "cell_type": "code",
   "execution_count": 83,
   "id": "455d6bb5",
   "metadata": {},
   "outputs": [],
   "source": [
    "import sys\n",
    "sys.setrecursionlimit(10**6)# sert à agrandir la limite de récursivité"
   ]
  },
  {
   "cell_type": "code",
   "execution_count": 521,
   "id": "1c6b81e6",
   "metadata": {},
   "outputs": [
    {
     "name": "stdout",
     "output_type": "stream",
     "text": [
      "50\n",
      "49\n",
      "48\n",
      "47\n",
      "46\n",
      "45\n"
     ]
    },
    {
     "data": {
      "text/plain": [
       "'aaaaaaaaaaa'"
      ]
     },
     "execution_count": 521,
     "metadata": {},
     "output_type": "execute_result"
    }
   ],
   "source": [
    "from random import choice\n",
    "def A(n):\n",
    "    print(n)\n",
    "    if n<=0 or choice([True, False]) :\n",
    "        return \"a\" \n",
    "    \n",
    "    else:\n",
    "        return \"a\" + A(n-1) + \"a\" \n",
    "        \n",
    "    \n",
    "A(50)\n"
   ]
  },
  {
   "cell_type": "markdown",
   "id": "5209d2e1",
   "metadata": {},
   "source": [
    "<span style=\"color:Blue\">2. b. Justifier le fait qu'un appel de la forme A(n) avec n un nombre entier positif\n",
    "inférieur à 50, termine toujours.</span>"
   ]
  },
  {
   "cell_type": "markdown",
   "id": "6a57efd8",
   "metadata": {},
   "source": [
    "Un appel de la forme ``A(n)`` avec n un nombre entier positif i férieur à 50, termine toujours car le nombre d'appel de cette focntion sera toujours inférieur à la limite de récusivité"
   ]
  },
  {
   "cell_type": "code",
   "execution_count": 597,
   "id": "3fe6a5c4",
   "metadata": {},
   "outputs": [
    {
     "name": "stdout",
     "output_type": "stream",
     "text": [
      "0\n"
     ]
    },
    {
     "data": {
      "text/plain": [
       "'bbabb'"
      ]
     },
     "execution_count": 597,
     "metadata": {},
     "output_type": "execute_result"
    }
   ],
   "source": [
    "def B(n):\n",
    "    if n <= 0 or choice([True, False]):\n",
    "        return \"b\" + A(n-1) + \"b\"\n",
    "    else:\n",
    "        return \"b\" + B(n-1) + \"b\"\n",
    "\n",
    "B(2)"
   ]
  },
  {
   "cell_type": "markdown",
   "id": "b535267f",
   "metadata": {},
   "source": [
    "<span style=\"color:Blue\"> 3. Donner toutes les chaînes possibles renvoyées par les appels ``B(0)``, ``B(1)`` et ``B(2)``.</span>"
   ]
  },
  {
   "cell_type": "markdown",
   "id": "f731ac29",
   "metadata": {},
   "source": [
    "    B(0):\n",
    "    'bab'"
   ]
  },
  {
   "cell_type": "markdown",
   "id": "703223d7",
   "metadata": {},
   "source": [
    "    B(1):\n",
    "    'bab'\n",
    "    'bbabb'"
   ]
  },
  {
   "cell_type": "markdown",
   "id": "c8ad6e55",
   "metadata": {},
   "source": [
    "    B(2):\n",
    "    'bab'\n",
    "    'baaab'\n",
    "    'bbabb'\n",
    "    'bbbabbb'\n",
    "   "
   ]
  },
  {
   "cell_type": "markdown",
   "id": "2691317d",
   "metadata": {},
   "source": [
    "<span style=\"color:Blue\">4. a. Recopier sur la copie et compléter les points de suspension ``...`` du code de la\n",
    "fonction ``regleA`` ci-dessous pour qu'elle renvoie ``True`` si la chaîne passée en\n",
    "paramètre est construite suivant la règle A, et ``False`` sinon.</span>"
   ]
  },
  {
   "cell_type": "code",
   "execution_count": 600,
   "id": "b91868f0",
   "metadata": {},
   "outputs": [],
   "source": [
    "def raccourcir(chaine:str):\n",
    "    assert len(chaine)>=2, \"chaine trop courte\"\n",
    "    return chaine[1:len(chaine)-1]"
   ]
  },
  {
   "cell_type": "code",
   "execution_count": 655,
   "id": "e1ea43bc",
   "metadata": {},
   "outputs": [
    {
     "data": {
      "text/plain": [
       "False"
      ]
     },
     "execution_count": 655,
     "metadata": {},
     "output_type": "execute_result"
    }
   ],
   "source": [
    "def regleA(chaine):\n",
    "    n = len(chaine)\n",
    "    if n >= 2:\n",
    "        return chaine[0] == \"a\" and chaine[n-1] == \"a\" and regleA(raccourcir(chaine))\n",
    "    else:\n",
    "        return chaine == 'a'\n",
    "    \n",
    "regleA(\"bbbabbb\")"
   ]
  },
  {
   "cell_type": "code",
   "execution_count": 627,
   "id": "76d94b3b",
   "metadata": {},
   "outputs": [
    {
     "data": {
      "text/plain": [
       "False"
      ]
     },
     "execution_count": 627,
     "metadata": {},
     "output_type": "execute_result"
    }
   ],
   "source": [
    "def regleB(chaine):\n",
    "    n = len(chaine)\n",
    "    if n >= 2:\n",
    "        return chaine[0] == \"a\" and chaine[n-1] == \"a\" and regleB(raccourcir(chaine))\n",
    "    else:\n",
    "        return chaine == 'a'\n",
    "    \n",
    "regleB(\"\")"
   ]
  }
 ],
 "metadata": {
  "kernelspec": {
   "display_name": "Python 3 (ipykernel)",
   "language": "python",
   "name": "python3"
  },
  "language_info": {
   "codemirror_mode": {
    "name": "ipython",
    "version": 3
   },
   "file_extension": ".py",
   "mimetype": "text/x-python",
   "name": "python",
   "nbconvert_exporter": "python",
   "pygments_lexer": "ipython3",
   "version": "3.9.7"
  }
 },
 "nbformat": 4,
 "nbformat_minor": 5
}
